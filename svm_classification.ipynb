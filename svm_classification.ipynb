{
 "cells": [
  {
   "cell_type": "code",
   "execution_count": 1,
   "metadata": {},
   "outputs": [],
   "source": [
    "import pandas as pd #Data manipulation\n",
    "import numpy as np\n",
    "from sklearn.model_selection import train_test_split\n",
    "from sklearn.preprocessing import MinMaxScaler\n",
    "from sklearn.svm import SVC\n",
    "import matplotlib.pyplot as plt# Visualization\n",
    "from sklearn.metrics import confusion_matrix, accuracy_score, precision_score, recall_score, f1_score\n",
    "from sklearn.exceptions import UndefinedMetricWarning\n",
    "import warnings\n",
    "# Preprocessing\n",
    "feature_names = ['Discharge Time (s)', 'Decrement 3.6-3.4V (s)', 'Max. Voltage Dischar. (V)',\n",
    "                 'Min. Voltage Charg. (V)', 'Time at 4.15V (s)', 'Time constant current (s)', 'Charging time (s)']\n",
    "target_name = 'RUL'"
   ]
  },
  {
   "cell_type": "code",
   "execution_count": 2,
   "metadata": {},
   "outputs": [],
   "source": [
    "# Load dataset from CSV file\n",
    "df = pd.read_csv('Battery_RUL.csv')\n",
    "# Create a binary column based on a threshold for classification\n",
    "threshold = 69\n",
    "df['RUL_binary'] = (df['RUL'] <= threshold).astype(int)\n",
    "# Split dataset into features and target variable\n",
    "X = df[feature_names]\n",
    "y = df['RUL_binary']"
   ]
  },
  {
   "cell_type": "code",
   "execution_count": 3,
   "metadata": {},
   "outputs": [],
   "source": [
    "# Apply MinMaxScaler => normalizing the data and ensuring that all features contribute equally to the learning process\n",
    "sc = MinMaxScaler()\n",
    "X = sc.fit_transform(X)\n"
   ]
  },
  {
   "cell_type": "code",
   "execution_count": 4,
   "metadata": {},
   "outputs": [],
   "source": [
    "\n",
    "# Split the data into train and test sets\n",
    "X_train, X_test, y_train, y_test = train_test_split(X, y, test_size=0.2, random_state=42)\n",
    "\n",
    "# Create the SVM model for classification (SVC)\n",
    "model = SVC(kernel=\"linear\", C=10000, gamma=0.5)\n",
    "model.fit(X_train, y_train)\n",
    "\n",
    "# Make predictions on the test set\n",
    "y_predictions = model.predict(X_test)\n"
   ]
  },
  {
   "cell_type": "code",
   "execution_count": 5,
   "metadata": {},
   "outputs": [
    {
     "name": "stdout",
     "output_type": "stream",
     "text": [
      "\n",
      "Classification Metrics (Test Set):\n",
      "Accuracy: 93.16%\n",
      "Precision: 90.14%\n",
      "Recall: 93.16%\n",
      "F-measure: 90.41%\n"
     ]
    }
   ],
   "source": [
    "# Calculate classification metrics for the test set\n",
    "with warnings.catch_warnings():\n",
    "    warnings.simplefilter(\"ignore\", category=UndefinedMetricWarning)\n",
    "    accuracy = accuracy_score(y_test, y_predictions)\n",
    "    precision = precision_score(y_test, y_predictions, average='weighted', zero_division=1)\n",
    "    recall = recall_score(y_test, y_predictions, average='weighted', zero_division=1)\n",
    "    f1 = f1_score(y_test, y_predictions, average='weighted', zero_division=1)\n",
    "#evalution \n",
    "# Print classification metrics for the test set\n",
    "print('\\nClassification Metrics (Test Set):')\n",
    "print('Accuracy: {:.2%}'.format(accuracy))\n",
    "print('Precision: {:.2%}'.format(precision))\n",
    "print('Recall: {:.2%}'.format(recall))\n",
    "print('F-measure: {:.2%}'.format(f1))\n"
   ]
  },
  {
   "cell_type": "code",
   "execution_count": 6,
   "metadata": {},
   "outputs": [
    {
     "name": "stdout",
     "output_type": "stream",
     "text": [
      "\n",
      "Confusion Matrix (Test Set):\n",
      "[[2799   10]\n",
      " [ 196    8]]\n"
     ]
    }
   ],
   "source": [
    "# Print confusion matrix for the test set\n",
    "confusion_mat_test = confusion_matrix(y_test, y_predictions)\n",
    "print(\"\\nConfusion Matrix (Test Set):\")\n",
    "print(confusion_mat_test)"
   ]
  }
 ],
 "metadata": {
  "kernelspec": {
   "display_name": "Python 3",
   "language": "python",
   "name": "python3"
  },
  "language_info": {
   "codemirror_mode": {
    "name": "ipython",
    "version": 3
   },
   "file_extension": ".py",
   "mimetype": "text/x-python",
   "name": "python",
   "nbconvert_exporter": "python",
   "pygments_lexer": "ipython3",
   "version": "3.10.8"
  }
 },
 "nbformat": 4,
 "nbformat_minor": 2
}
